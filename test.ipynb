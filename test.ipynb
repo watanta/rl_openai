{
 "cells": [
  {
   "cell_type": "code",
   "execution_count": 2,
   "source": [
    "import sys\n",
    "sys.path.insert(0, \"/home/ubuntu/work/codes/rl_openai/kaggle-environments/kaggle_environments\")\n",
    "print(sys.path)\n",
    "import kaggle_environments\n",
    "print(kaggle_environments.__file__)"
   ],
   "outputs": [
    {
     "output_type": "stream",
     "name": "stdout",
     "text": [
      "['/home/ubuntu/work/codes/rl_openai/kaggle-environments/kaggle_environments', '/home/ubuntu/work/codes/rl_openai/kaggle-environments/kaggle_environments', '/home/ubuntu/work/codes/rl_openai', '/home/ubuntu/.vscode-server/extensions/ms-toolsai.jupyter-2021.8.1236758218/pythonFiles', '/home/ubuntu/.vscode-server/extensions/ms-toolsai.jupyter-2021.8.1236758218/pythonFiles/lib/python', '/home/ubuntu/anaconda3/lib/python37.zip', '/home/ubuntu/anaconda3/lib/python3.7', '/home/ubuntu/anaconda3/lib/python3.7/lib-dynload', '', '/home/ubuntu/anaconda3/lib/python3.7/site-packages', '/home/ubuntu/anaconda3/lib/python3.7/site-packages/locket-0.2.1-py3.7.egg', '/home/ubuntu/anaconda3/lib/python3.7/site-packages/IPython/extensions', '/home/ubuntu/.ipython']\n",
      "/home/ubuntu/anaconda3/lib/python3.7/site-packages/kaggle_environments/__init__.py\n"
     ]
    }
   ],
   "metadata": {}
  },
  {
   "cell_type": "code",
   "execution_count": 3,
   "source": [
    "sys.path.insert(0, \"/home/ubuntu/work/codes/rl_openai/LuxPythonEnvGym\")\n",
    "print(sys.path)\n",
    "import luxai2021\n",
    "print(luxai2021.__file__)"
   ],
   "outputs": [
    {
     "output_type": "stream",
     "name": "stdout",
     "text": [
      "['/home/ubuntu/work/codes/rl_openai/LuxPythonEnvGym', '/home/ubuntu/work/codes/rl_openai/kaggle-environments/kaggle_environments', '/home/ubuntu/work/codes/rl_openai/kaggle-environments/kaggle_environments', '/home/ubuntu/work/codes/rl_openai', '/home/ubuntu/.vscode-server/extensions/ms-toolsai.jupyter-2021.8.1236758218/pythonFiles', '/home/ubuntu/.vscode-server/extensions/ms-toolsai.jupyter-2021.8.1236758218/pythonFiles/lib/python', '/home/ubuntu/anaconda3/lib/python37.zip', '/home/ubuntu/anaconda3/lib/python3.7', '/home/ubuntu/anaconda3/lib/python3.7/lib-dynload', '', '/home/ubuntu/anaconda3/lib/python3.7/site-packages', '/home/ubuntu/anaconda3/lib/python3.7/site-packages/locket-0.2.1-py3.7.egg', '/home/ubuntu/anaconda3/lib/python3.7/site-packages/IPython/extensions', '/home/ubuntu/.ipython']\n",
      "/home/ubuntu/work/codes/rl_openai/LuxPythonEnvGym/luxai2021/__init__.py\n"
     ]
    }
   ],
   "metadata": {}
  },
  {
   "cell_type": "code",
   "execution_count": null,
   "source": [],
   "outputs": [],
   "metadata": {}
  }
 ],
 "metadata": {
  "orig_nbformat": 4,
  "language_info": {
   "name": "python",
   "version": "3.7.10",
   "mimetype": "text/x-python",
   "codemirror_mode": {
    "name": "ipython",
    "version": 3
   },
   "pygments_lexer": "ipython3",
   "nbconvert_exporter": "python",
   "file_extension": ".py"
  },
  "kernelspec": {
   "name": "python3",
   "display_name": "Python 3.7.10 64-bit ('base': conda)"
  },
  "interpreter": {
   "hash": "ead85409a3df2736fa4852a03cf3afe7e5b1dbdc0e40d7d22bbcbf8cf1adf5fa"
  }
 },
 "nbformat": 4,
 "nbformat_minor": 2
}